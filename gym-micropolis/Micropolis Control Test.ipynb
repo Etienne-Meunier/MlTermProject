{
 "cells": [
  {
   "cell_type": "code",
   "execution_count": 2,
   "metadata": {
    "ExecuteTime": {
     "end_time": "2019-04-15T07:06:25.735674Z",
     "start_time": "2019-04-15T07:06:25.708547Z"
    }
   },
   "outputs": [
    {
     "ename": "ModuleNotFoundError",
     "evalue": "No module named 'MicropolisControlScript'",
     "output_type": "error",
     "traceback": [
      "\u001b[0;31m---------------------------------------------------------------------------\u001b[0m",
      "\u001b[0;31mModuleNotFoundError\u001b[0m                       Traceback (most recent call last)",
      "\u001b[0;32m<ipython-input-2-f3d1a43af2ea>\u001b[0m in \u001b[0;36m<module>\u001b[0;34m\u001b[0m\n\u001b[0;32m----> 1\u001b[0;31m \u001b[0;32mfrom\u001b[0m \u001b[0mMicropolisControlScript\u001b[0m \u001b[0;32mimport\u001b[0m \u001b[0mQuimby\u001b[0m\u001b[0;34m\u001b[0m\u001b[0;34m\u001b[0m\u001b[0m\n\u001b[0m\u001b[1;32m      2\u001b[0m \u001b[0;32mfrom\u001b[0m \u001b[0mgym_micropolis\u001b[0m\u001b[0;34m.\u001b[0m\u001b[0menvs\u001b[0m\u001b[0;34m.\u001b[0m\u001b[0mcorecontrol\u001b[0m \u001b[0;32mimport\u001b[0m \u001b[0mMicropolisControl\u001b[0m\u001b[0;34m\u001b[0m\u001b[0;34m\u001b[0m\u001b[0m\n\u001b[1;32m      3\u001b[0m \u001b[0;32mfrom\u001b[0m \u001b[0mgym_micropolis\u001b[0m\u001b[0;34m.\u001b[0m\u001b[0menvs\u001b[0m\u001b[0;34m.\u001b[0m\u001b[0mtilemap\u001b[0m \u001b[0;32mimport\u001b[0m \u001b[0mTileMap\u001b[0m\u001b[0;34m,\u001b[0m\u001b[0mzoneFromInt\u001b[0m\u001b[0;34m\u001b[0m\u001b[0;34m\u001b[0m\u001b[0m\n\u001b[1;32m      4\u001b[0m \u001b[0;32mfrom\u001b[0m \u001b[0mgi\u001b[0m\u001b[0;34m.\u001b[0m\u001b[0mrepository\u001b[0m \u001b[0;32mimport\u001b[0m \u001b[0mGtk\u001b[0m \u001b[0;32mas\u001b[0m \u001b[0mgtk\u001b[0m\u001b[0;34m\u001b[0m\u001b[0;34m\u001b[0m\u001b[0m\n",
      "\u001b[0;31mModuleNotFoundError\u001b[0m: No module named 'MicropolisControlScript'"
     ]
    }
   ],
   "source": [
    "from MicropolisControlScript import Quimby\n",
    "from gym_micropolis.envs.corecontrol import MicropolisControl\n",
    "from gym_micropolis.envs.tilemap import TileMap,zoneFromInt\n",
    "from gi.repository import Gtk as gtk"
   ]
  },
  {
   "cell_type": "markdown",
   "metadata": {},
   "source": [
    "# Create Control Environnement"
   ]
  },
  {
   "cell_type": "code",
   "execution_count": 202,
   "metadata": {
    "ExecuteTime": {
     "end_time": "2019-04-15T06:41:21.922920Z",
     "start_time": "2019-04-15T06:41:21.863635Z"
    }
   },
   "outputs": [],
   "source": [
    "%%capture\n",
    "s = 20\n",
    "m = MicropolisControl(s,s,PADDING=5,display =True)"
   ]
  },
  {
   "cell_type": "code",
   "execution_count": 203,
   "metadata": {
    "ExecuteTime": {
     "end_time": "2019-04-15T06:41:23.841633Z",
     "start_time": "2019-04-15T06:41:23.820717Z"
    }
   },
   "outputs": [],
   "source": [
    "m.clearMap()"
   ]
  },
  {
   "cell_type": "markdown",
   "metadata": {},
   "source": [
    "# Fill it "
   ]
  },
  {
   "cell_type": "code",
   "execution_count": 71,
   "metadata": {
    "ExecuteTime": {
     "end_time": "2019-04-15T06:34:40.098959Z",
     "start_time": "2019-04-15T06:34:40.073456Z"
    }
   },
   "outputs": [],
   "source": [
    "m.doTool(1,1,'NuclearPowerPlant')\n",
    "m.doTool(5,1,'Residential')\n",
    "m.doTool(8,1,'Commercial')\n",
    "m.doTool(4,3,'Road')\n",
    "m.doTool(5,3,'Road')\n",
    "m.doTool(6,3,'Road')\n",
    "m.doTool(7,3,'Road')\n",
    "m.doTool(8,3,'Road')\n",
    "m.doTool(9,3,'Road')\n",
    "m.doTool(10,4,'Road')\n",
    "m.doTool(5,5,'Industrial')\n",
    "m.doTool(2,5,'Industrial')\n",
    "m.doTool(8,5,'Residential')"
   ]
  },
  {
   "cell_type": "code",
   "execution_count": 25,
   "metadata": {
    "ExecuteTime": {
     "end_time": "2019-04-14T17:33:19.223683Z",
     "start_time": "2019-04-14T17:33:19.148703Z"
    }
   },
   "outputs": [
    {
     "ename": "AttributeError",
     "evalue": "'MicropolisControl' object has no attribute 'engine'",
     "output_type": "error",
     "traceback": [
      "\u001b[0;31m---------------------------------------------------------------------------\u001b[0m",
      "\u001b[0;31mAttributeError\u001b[0m                            Traceback (most recent call last)",
      "\u001b[0;32m<ipython-input-25-7256e2c70063>\u001b[0m in \u001b[0;36m<module>\u001b[0;34m\u001b[0m\n\u001b[1;32m      1\u001b[0m \u001b[0;32mfor\u001b[0m \u001b[0mi\u001b[0m \u001b[0;32min\u001b[0m \u001b[0mrange\u001b[0m\u001b[0;34m(\u001b[0m\u001b[0;36m1000\u001b[0m\u001b[0;34m)\u001b[0m \u001b[0;34m:\u001b[0m\u001b[0;34m\u001b[0m\u001b[0;34m\u001b[0m\u001b[0m\n\u001b[0;32m----> 2\u001b[0;31m     \u001b[0mm\u001b[0m\u001b[0;34m.\u001b[0m\u001b[0mengine\u001b[0m\u001b[0;34m.\u001b[0m\u001b[0msimTick\u001b[0m\u001b[0;34m(\u001b[0m\u001b[0;34m)\u001b[0m\u001b[0;34m\u001b[0m\u001b[0;34m\u001b[0m\u001b[0m\n\u001b[0m\u001b[1;32m      3\u001b[0m \u001b[0mprint\u001b[0m\u001b[0;34m(\u001b[0m\u001b[0mm\u001b[0m\u001b[0;34m.\u001b[0m\u001b[0mengine\u001b[0m\u001b[0;34m.\u001b[0m\u001b[0mcityPop\u001b[0m\u001b[0;34m)\u001b[0m\u001b[0;34m\u001b[0m\u001b[0;34m\u001b[0m\u001b[0m\n",
      "\u001b[0;31mAttributeError\u001b[0m: 'MicropolisControl' object has no attribute 'engine'"
     ]
    }
   ],
   "source": [
    "for i in range(1000) :\n",
    "    m.engine.simTick()\n",
    "print(m.engine.cityPop)"
   ]
  },
  {
   "cell_type": "code",
   "execution_count": 231,
   "metadata": {
    "ExecuteTime": {
     "end_time": "2019-04-15T06:42:50.221582Z",
     "start_time": "2019-04-15T06:42:50.195921Z"
    }
   },
   "outputs": [
    {
     "ename": "AttributeError",
     "evalue": "'Micropolis' object has no attribute 'engine'",
     "output_type": "error",
     "traceback": [
      "\u001b[0;31m---------------------------------------------------------------------------\u001b[0m",
      "\u001b[0;31mAttributeError\u001b[0m                            Traceback (most recent call last)",
      "\u001b[0;32m<ipython-input-231-784e9574bcf3>\u001b[0m in \u001b[0;36m<module>\u001b[0;34m\u001b[0m\n\u001b[0;32m----> 1\u001b[0;31m \u001b[0mm\u001b[0m\u001b[0;34m.\u001b[0m\u001b[0mengine\u001b[0m\u001b[0;34m.\u001b[0m\u001b[0mengine\u001b[0m\u001b[0;34m\u001b[0m\u001b[0;34m\u001b[0m\u001b[0m\n\u001b[0m",
      "\u001b[0;32m~/Desktop/Machine Learning Term Project/gym-micropolis/micropolis/MicropolisCore/src/pyMicropolis/micropolisEngine/micropolisengine.py\u001b[0m in \u001b[0;36m<lambda>\u001b[0;34m(self, name)\u001b[0m\n\u001b[1;32m    647\u001b[0m     \u001b[0m__setattr__\u001b[0m \u001b[0;34m=\u001b[0m \u001b[0;32mlambda\u001b[0m \u001b[0mself\u001b[0m\u001b[0;34m,\u001b[0m \u001b[0mname\u001b[0m\u001b[0;34m,\u001b[0m \u001b[0mvalue\u001b[0m\u001b[0;34m:\u001b[0m \u001b[0m_swig_setattr\u001b[0m\u001b[0;34m(\u001b[0m\u001b[0mself\u001b[0m\u001b[0;34m,\u001b[0m \u001b[0mMicropolis\u001b[0m\u001b[0;34m,\u001b[0m \u001b[0mname\u001b[0m\u001b[0;34m,\u001b[0m \u001b[0mvalue\u001b[0m\u001b[0;34m)\u001b[0m\u001b[0;34m\u001b[0m\u001b[0;34m\u001b[0m\u001b[0m\n\u001b[1;32m    648\u001b[0m     \u001b[0m__swig_getmethods__\u001b[0m \u001b[0;34m=\u001b[0m \u001b[0;34m{\u001b[0m\u001b[0;34m}\u001b[0m\u001b[0;34m\u001b[0m\u001b[0;34m\u001b[0m\u001b[0m\n\u001b[0;32m--> 649\u001b[0;31m     \u001b[0m__getattr__\u001b[0m \u001b[0;34m=\u001b[0m \u001b[0;32mlambda\u001b[0m \u001b[0mself\u001b[0m\u001b[0;34m,\u001b[0m \u001b[0mname\u001b[0m\u001b[0;34m:\u001b[0m \u001b[0m_swig_getattr\u001b[0m\u001b[0;34m(\u001b[0m\u001b[0mself\u001b[0m\u001b[0;34m,\u001b[0m \u001b[0mMicropolis\u001b[0m\u001b[0;34m,\u001b[0m \u001b[0mname\u001b[0m\u001b[0;34m)\u001b[0m\u001b[0;34m\u001b[0m\u001b[0;34m\u001b[0m\u001b[0m\n\u001b[0m\u001b[1;32m    650\u001b[0m     \u001b[0m__repr__\u001b[0m \u001b[0;34m=\u001b[0m \u001b[0m_swig_repr\u001b[0m\u001b[0;34m\u001b[0m\u001b[0;34m\u001b[0m\u001b[0m\n\u001b[1;32m    651\u001b[0m \u001b[0;34m\u001b[0m\u001b[0m\n",
      "\u001b[0;32m~/Desktop/Machine Learning Term Project/gym-micropolis/micropolis/MicropolisCore/src/pyMicropolis/micropolisEngine/micropolisengine.py\u001b[0m in \u001b[0;36m_swig_getattr\u001b[0;34m(self, class_type, name)\u001b[0m\n\u001b[1;32m     78\u001b[0m     \u001b[0;32mif\u001b[0m \u001b[0mmethod\u001b[0m\u001b[0;34m:\u001b[0m\u001b[0;34m\u001b[0m\u001b[0;34m\u001b[0m\u001b[0m\n\u001b[1;32m     79\u001b[0m         \u001b[0;32mreturn\u001b[0m \u001b[0mmethod\u001b[0m\u001b[0;34m(\u001b[0m\u001b[0mself\u001b[0m\u001b[0;34m)\u001b[0m\u001b[0;34m\u001b[0m\u001b[0;34m\u001b[0m\u001b[0m\n\u001b[0;32m---> 80\u001b[0;31m     \u001b[0;32mraise\u001b[0m \u001b[0mAttributeError\u001b[0m\u001b[0;34m(\u001b[0m\u001b[0;34m\"'%s' object has no attribute '%s'\"\u001b[0m \u001b[0;34m%\u001b[0m \u001b[0;34m(\u001b[0m\u001b[0mclass_type\u001b[0m\u001b[0;34m.\u001b[0m\u001b[0m__name__\u001b[0m\u001b[0;34m,\u001b[0m \u001b[0mname\u001b[0m\u001b[0;34m)\u001b[0m\u001b[0;34m)\u001b[0m\u001b[0;34m\u001b[0m\u001b[0;34m\u001b[0m\u001b[0m\n\u001b[0m\u001b[1;32m     81\u001b[0m \u001b[0;34m\u001b[0m\u001b[0m\n\u001b[1;32m     82\u001b[0m \u001b[0;34m\u001b[0m\u001b[0m\n",
      "\u001b[0;31mAttributeError\u001b[0m: 'Micropolis' object has no attribute 'engine'"
     ]
    }
   ],
   "source": [
    "m.engine."
   ]
  },
  {
   "cell_type": "code",
   "execution_count": 230,
   "metadata": {
    "ExecuteTime": {
     "end_time": "2019-04-15T06:42:39.780016Z",
     "start_time": "2019-04-15T06:42:39.746616Z"
    }
   },
   "outputs": [
    {
     "name": "stdout",
     "output_type": "stream",
     "text": [
      "('PAGEREMOVED', <micropolisnotebook.MicropolisNotebook object at 0x7fc985485d80 (pyMicropolis+micropolisEngine+micropolisnotebook+MicropolisNotebook at 0x48f51e0)>, <micropolisnotebook.MicropolisNotebook object at 0x7fc985485d80 (pyMicropolis+micropolisEngine+micropolisnotebook+MicropolisNotebook at 0x48f51e0)>, <micropolisnoticepanel.MicropolisNoticePanel object at 0x7fc985485dc8 (pyMicropolis+micropolisEngine+micropolisnoticepanel+MicropolisNoticePanel at 0x3f80320)>, 0)\n",
      "('PAGEREMOVED', <micropolisnotebook.MicropolisNotebook object at 0x7fc985485d80 (pyMicropolis+micropolisEngine+micropolisnotebook+MicropolisNotebook at 0x48f51e0)>, <micropolisnotebook.MicropolisNotebook object at 0x7fc985485d80 (pyMicropolis+micropolisEngine+micropolisnotebook+MicropolisNotebook at 0x48f51e0)>, <micropolismessagespanel.MicropolisMessagesPanel object at 0x7fc985485ee8 (pyMicropolis+micropolisEngine+micropolismessagespanel+MicropolisMessagesPanel at 0x3f804d0)>, 0)\n",
      "('PAGEREMOVED', <micropolisnotebook.MicropolisNotebook object at 0x7fc985485d80 (pyMicropolis+micropolisEngine+micropolisnotebook+MicropolisNotebook at 0x48f51e0)>, <micropolisnotebook.MicropolisNotebook object at 0x7fc985485d80 (pyMicropolis+micropolisEngine+micropolisnotebook+MicropolisNotebook at 0x48f51e0)>, <micropolisevaluationpanel.MicropolisEvaluationPanel object at 0x7fc985491090 (pyMicropolis+micropolisEngine+micropolisevaluationpanel+MicropolisEvaluationPanel at 0x3f80680)>, 0)\n",
      "('PAGEREMOVED', <micropolisnotebook.MicropolisNotebook object at 0x7fc985485d80 (pyMicropolis+micropolisEngine+micropolisnotebook+MicropolisNotebook at 0x48f51e0)>, <micropolisnotebook.MicropolisNotebook object at 0x7fc985485d80 (pyMicropolis+micropolisEngine+micropolisnotebook+MicropolisNotebook at 0x48f51e0)>, <micropolishistorypanel.MicropolisHistoryPanel object at 0x7fc985491168 (pyMicropolis+micropolisEngine+micropolishistorypanel+MicropolisHistoryPanel at 0x3f80830)>, 0)\n",
      "('PAGEREMOVED', <micropolisnotebook.MicropolisNotebook object at 0x7fc985485d80 (pyMicropolis+micropolisEngine+micropolisnotebook+MicropolisNotebook at 0x48f51e0)>, <micropolisnotebook.MicropolisNotebook object at 0x7fc985485d80 (pyMicropolis+micropolisEngine+micropolisnotebook+MicropolisNotebook at 0x48f51e0)>, <micropolisbudgetpanel.MicropolisBudgetPanel object at 0x7fc985491240 (pyMicropolis+micropolisEngine+micropolisbudgetpanel+MicropolisBudgetPanel at 0x3f809e0)>, 0)\n",
      "('PAGEREMOVED', <micropolisnotebook.MicropolisNotebook object at 0x7fc985485d80 (pyMicropolis+micropolisEngine+micropolisnotebook+MicropolisNotebook at 0x48f51e0)>, <micropolisnotebook.MicropolisNotebook object at 0x7fc985485d80 (pyMicropolis+micropolisEngine+micropolisnotebook+MicropolisNotebook at 0x48f51e0)>, <micropolismappanel.MicropolisMapPanel object at 0x7fc9854917e0 (pyMicropolis+micropolisEngine+micropolismappanel+MicropolisMapPanel at 0x3f80b90)>, 0)\n",
      "('PAGEREMOVED', <micropolisnotebook.MicropolisNotebook object at 0x7fc985485d80 (pyMicropolis+micropolisEngine+micropolisnotebook+MicropolisNotebook at 0x48f51e0)>, <micropolisnotebook.MicropolisNotebook object at 0x7fc985485d80 (pyMicropolis+micropolisEngine+micropolisnotebook+MicropolisNotebook at 0x48f51e0)>, <micropolisdisasterspanel.MicropolisDisastersPanel object at 0x7fc985492318 (pyMicropolis+micropolisEngine+micropolisdisasterspanel+MicropolisDisastersPanel at 0x3f80d40)>, 0)\n",
      "('PAGEREMOVED', <micropolisnotebook.MicropolisNotebook object at 0x7fc985485d80 (pyMicropolis+micropolisEngine+micropolisnotebook+MicropolisNotebook at 0x48f51e0)>, <micropolisnotebook.MicropolisNotebook object at 0x7fc985485d80 (pyMicropolis+micropolisEngine+micropolisnotebook+MicropolisNotebook at 0x48f51e0)>, <micropoliscontrolpanel.MicropolisControlPanel object at 0x7fc985492fc0 (pyMicropolis+micropolisEngine+micropoliscontrolpanel+MicropolisControlPanel at 0x3f80ef0)>, 0)\n"
     ]
    }
   ],
   "source": [
    "m.render()"
   ]
  },
  {
   "cell_type": "code",
   "execution_count": 160,
   "metadata": {
    "ExecuteTime": {
     "end_time": "2019-04-15T06:39:41.303598Z",
     "start_time": "2019-04-15T06:39:41.297314Z"
    }
   },
   "outputs": [],
   "source": [
    "m.win1.destroy()"
   ]
  },
  {
   "cell_type": "markdown",
   "metadata": {},
   "source": [
    "# Display"
   ]
  },
  {
   "cell_type": "code",
   "execution_count": 127,
   "metadata": {
    "ExecuteTime": {
     "end_time": "2019-04-14T16:58:35.144426Z",
     "start_time": "2019-04-14T16:58:35.141400Z"
    }
   },
   "outputs": [],
   "source": [
    "m.engine.simTick()\n",
    "m.engine.simUpdate()"
   ]
  },
  {
   "cell_type": "code",
   "execution_count": 167,
   "metadata": {
    "ExecuteTime": {
     "end_time": "2019-04-14T17:06:17.756330Z",
     "start_time": "2019-04-14T17:06:17.743910Z"
    }
   },
   "outputs": [
    {
     "name": "stdout",
     "output_type": "stream",
     "text": [
      "('PAUSED', False, 'running', True)\n"
     ]
    }
   ],
   "source": [
    "m.engine.setSpeed(2)\n",
    "m.engine.setPasses(1)\n",
    "m.engine.resume()\n"
   ]
  },
  {
   "cell_type": "code",
   "execution_count": 151,
   "metadata": {
    "ExecuteTime": {
     "end_time": "2019-04-14T17:04:11.634362Z",
     "start_time": "2019-04-14T17:04:11.630249Z"
    }
   },
   "outputs": [],
   "source": [
    "m.win1.destroy()"
   ]
  },
  {
   "cell_type": "code",
   "execution_count": 57,
   "metadata": {
    "ExecuteTime": {
     "end_time": "2019-04-14T16:53:57.292004Z",
     "start_time": "2019-04-14T16:53:57.244411Z"
    }
   },
   "outputs": [],
   "source": [
    "??m.engine.update"
   ]
  },
  {
   "cell_type": "code",
   "execution_count": 131,
   "metadata": {
    "ExecuteTime": {
     "end_time": "2019-04-14T16:58:38.639639Z",
     "start_time": "2019-04-14T16:58:38.631364Z"
    }
   },
   "outputs": [
    {
     "data": {
      "text/plain": [
       "-1"
      ]
     },
     "execution_count": 131,
     "metadata": {},
     "output_type": "execute_result"
    }
   ],
   "source": [
    "m.engine.cityPop"
   ]
  },
  {
   "cell_type": "code",
   "execution_count": 19,
   "metadata": {
    "ExecuteTime": {
     "end_time": "2019-04-14T17:27:56.518269Z",
     "start_time": "2019-04-14T17:27:56.509500Z"
    }
   },
   "outputs": [],
   "source": [
    "m.render()"
   ]
  },
  {
   "cell_type": "code",
   "execution_count": 11,
   "metadata": {
    "ExecuteTime": {
     "end_time": "2019-04-13T16:50:36.696998Z",
     "start_time": "2019-04-13T16:50:36.686172Z"
    }
   },
   "outputs": [
    {
     "data": {
      "text/plain": [
       "0"
      ]
     },
     "execution_count": 11,
     "metadata": {},
     "output_type": "execute_result"
    }
   ],
   "source": [
    "m.engine."
   ]
  },
  {
   "cell_type": "code",
   "execution_count": 45,
   "metadata": {
    "ExecuteTime": {
     "end_time": "2019-04-13T16:10:25.836693Z",
     "start_time": "2019-04-13T16:10:25.822251Z"
    }
   },
   "outputs": [],
   "source": [
    "m.updateMap()"
   ]
  },
  {
   "cell_type": "code",
   "execution_count": 10,
   "metadata": {
    "ExecuteTime": {
     "end_time": "2019-04-13T16:48:56.917777Z",
     "start_time": "2019-04-13T16:48:56.908421Z"
    }
   },
   "outputs": [],
   "source": [
    "m.close()"
   ]
  },
  {
   "cell_type": "code",
   "execution_count": 59,
   "metadata": {
    "ExecuteTime": {
     "end_time": "2019-04-13T18:27:22.765195Z",
     "start_time": "2019-04-13T18:27:22.760096Z"
    }
   },
   "outputs": [
    {
     "data": {
      "text/plain": [
       "-1"
      ]
     },
     "execution_count": 59,
     "metadata": {},
     "output_type": "execute_result"
    }
   ],
   "source": [
    "m.engine.cityPop"
   ]
  }
 ],
 "metadata": {
  "kernelspec": {
   "display_name": "Python 3",
   "language": "python",
   "name": "python3"
  },
  "language_info": {
   "codemirror_mode": {
    "name": "ipython",
    "version": 3
   },
   "file_extension": ".py",
   "mimetype": "text/x-python",
   "name": "python",
   "nbconvert_exporter": "python",
   "pygments_lexer": "ipython3",
   "version": "3.6.7"
  }
 },
 "nbformat": 4,
 "nbformat_minor": 2
}
