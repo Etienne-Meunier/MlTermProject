{
 "cells": [
  {
   "cell_type": "code",
   "execution_count": 132,
   "metadata": {
    "ExecuteTime": {
     "end_time": "2019-04-14T17:02:35.990251Z",
     "start_time": "2019-04-14T17:02:35.986976Z"
    }
   },
   "outputs": [],
   "source": [
    "from gym_micropolis.envs.corecontrol import MicropolisControl\n",
    "from gym_micropolis.envs.tilemap import TileMap,zoneFromInt\n",
    "from gi.repository import Gtk as gtk"
   ]
  },
  {
   "cell_type": "markdown",
   "metadata": {},
   "source": [
    "# Create Control Environnement"
   ]
  },
  {
   "cell_type": "code",
   "execution_count": 177,
   "metadata": {
    "ExecuteTime": {
     "end_time": "2019-04-14T17:09:50.619622Z",
     "start_time": "2019-04-14T17:09:50.605183Z"
    }
   },
   "outputs": [],
   "source": [
    "%%capture\n",
    "s = 20\n",
    "m = MicropolisControl(s,s,PADDING=5,display =False)"
   ]
  },
  {
   "cell_type": "code",
   "execution_count": null,
   "metadata": {},
   "outputs": [],
   "source": [
    "m.engine.expressInterest()"
   ]
  },
  {
   "cell_type": "code",
   "execution_count": 178,
   "metadata": {
    "ExecuteTime": {
     "end_time": "2019-04-14T17:10:19.961888Z",
     "start_time": "2019-04-14T17:10:19.948668Z"
    }
   },
   "outputs": [],
   "source": [
    "m.engine.generateNewMetaCity()"
   ]
  },
  {
   "cell_type": "code",
   "execution_count": 180,
   "metadata": {
    "ExecuteTime": {
     "end_time": "2019-04-14T17:17:25.369356Z",
     "start_time": "2019-04-14T17:17:25.365302Z"
    }
   },
   "outputs": [],
   "source": [
    "m.engine.interests['gameMode'] = None"
   ]
  },
  {
   "cell_type": "markdown",
   "metadata": {},
   "source": [
    "# Fill it "
   ]
  },
  {
   "cell_type": "code",
   "execution_count": 155,
   "metadata": {
    "ExecuteTime": {
     "end_time": "2019-04-14T17:04:26.266889Z",
     "start_time": "2019-04-14T17:04:26.254174Z"
    }
   },
   "outputs": [],
   "source": [
    "m.doTool(1,1,'NuclearPowerPlant')\n",
    "m.doTool(5,1,'Residential')\n",
    "m.doTool(8,1,'Commercial')\n",
    "m.doTool(4,3,'Road')\n",
    "m.doTool(5,3,'Road')\n",
    "m.doTool(6,3,'Road')\n",
    "m.doTool(7,3,'Road')\n",
    "m.doTool(8,3,'Road')\n",
    "m.doTool(9,3,'Road')\n",
    "m.doTool(10,4,'Road')\n",
    "m.doTool(5,5,'Industrial')\n",
    "m.doTool(2,5,'Industrial')\n",
    "m.doTool(8,5,'Residential')"
   ]
  },
  {
   "cell_type": "code",
   "execution_count": 172,
   "metadata": {
    "ExecuteTime": {
     "end_time": "2019-04-14T17:06:21.745620Z",
     "start_time": "2019-04-14T17:06:21.727819Z"
    }
   },
   "outputs": [
    {
     "name": "stdout",
     "output_type": "stream",
     "text": [
      "-1\n"
     ]
    }
   ],
   "source": [
    "for i in range(1000) :\n",
    "    m.engine.simTick()\n",
    "print(m.engine.cityPop)"
   ]
  },
  {
   "cell_type": "code",
   "execution_count": 159,
   "metadata": {
    "ExecuteTime": {
     "end_time": "2019-04-14T17:05:05.908670Z",
     "start_time": "2019-04-14T17:05:05.899899Z"
    }
   },
   "outputs": [
    {
     "name": "stdout",
     "output_type": "stream",
     "text": [
      "('PAUSED', False, 'running', True)\n"
     ]
    }
   ],
   "source": [
    "m.engine.resume()"
   ]
  },
  {
   "cell_type": "markdown",
   "metadata": {},
   "source": [
    "# Display"
   ]
  },
  {
   "cell_type": "code",
   "execution_count": 127,
   "metadata": {
    "ExecuteTime": {
     "end_time": "2019-04-14T16:58:35.144426Z",
     "start_time": "2019-04-14T16:58:35.141400Z"
    }
   },
   "outputs": [],
   "source": [
    "m.engine.simTick()\n",
    "m.engine.simUpdate()"
   ]
  },
  {
   "cell_type": "code",
   "execution_count": 167,
   "metadata": {
    "ExecuteTime": {
     "end_time": "2019-04-14T17:06:17.756330Z",
     "start_time": "2019-04-14T17:06:17.743910Z"
    }
   },
   "outputs": [
    {
     "name": "stdout",
     "output_type": "stream",
     "text": [
      "('PAUSED', False, 'running', True)\n"
     ]
    }
   ],
   "source": [
    "m.engine.setSpeed(2)\n",
    "m.engine.setPasses(1)\n",
    "m.engine.resume()\n"
   ]
  },
  {
   "cell_type": "code",
   "execution_count": 151,
   "metadata": {
    "ExecuteTime": {
     "end_time": "2019-04-14T17:04:11.634362Z",
     "start_time": "2019-04-14T17:04:11.630249Z"
    }
   },
   "outputs": [],
   "source": [
    "m.win1.destroy()"
   ]
  },
  {
   "cell_type": "code",
   "execution_count": 57,
   "metadata": {
    "ExecuteTime": {
     "end_time": "2019-04-14T16:53:57.292004Z",
     "start_time": "2019-04-14T16:53:57.244411Z"
    }
   },
   "outputs": [],
   "source": [
    "??m.engine.update"
   ]
  },
  {
   "cell_type": "code",
   "execution_count": 131,
   "metadata": {
    "ExecuteTime": {
     "end_time": "2019-04-14T16:58:38.639639Z",
     "start_time": "2019-04-14T16:58:38.631364Z"
    }
   },
   "outputs": [
    {
     "data": {
      "text/plain": [
       "-1"
      ]
     },
     "execution_count": 131,
     "metadata": {},
     "output_type": "execute_result"
    }
   ],
   "source": [
    "m.engine.cityPop"
   ]
  },
  {
   "cell_type": "code",
   "execution_count": 40,
   "metadata": {
    "ExecuteTime": {
     "end_time": "2019-04-13T18:11:46.455451Z",
     "start_time": "2019-04-13T18:11:46.414555Z"
    }
   },
   "outputs": [],
   "source": [
    "%%capture\n",
    "m.render()"
   ]
  },
  {
   "cell_type": "code",
   "execution_count": 11,
   "metadata": {
    "ExecuteTime": {
     "end_time": "2019-04-13T16:50:36.696998Z",
     "start_time": "2019-04-13T16:50:36.686172Z"
    }
   },
   "outputs": [
    {
     "data": {
      "text/plain": [
       "0"
      ]
     },
     "execution_count": 11,
     "metadata": {},
     "output_type": "execute_result"
    }
   ],
   "source": [
    "m.engine."
   ]
  },
  {
   "cell_type": "code",
   "execution_count": 45,
   "metadata": {
    "ExecuteTime": {
     "end_time": "2019-04-13T16:10:25.836693Z",
     "start_time": "2019-04-13T16:10:25.822251Z"
    }
   },
   "outputs": [],
   "source": [
    "m.updateMap()"
   ]
  },
  {
   "cell_type": "code",
   "execution_count": 10,
   "metadata": {
    "ExecuteTime": {
     "end_time": "2019-04-13T16:48:56.917777Z",
     "start_time": "2019-04-13T16:48:56.908421Z"
    }
   },
   "outputs": [],
   "source": [
    "m.close()"
   ]
  },
  {
   "cell_type": "code",
   "execution_count": 59,
   "metadata": {
    "ExecuteTime": {
     "end_time": "2019-04-13T18:27:22.765195Z",
     "start_time": "2019-04-13T18:27:22.760096Z"
    }
   },
   "outputs": [
    {
     "data": {
      "text/plain": [
       "-1"
      ]
     },
     "execution_count": 59,
     "metadata": {},
     "output_type": "execute_result"
    }
   ],
   "source": [
    "m.engine.cityPop"
   ]
  }
 ],
 "metadata": {
  "kernelspec": {
   "display_name": "Python 3",
   "language": "python",
   "name": "python3"
  },
  "language_info": {
   "codemirror_mode": {
    "name": "ipython",
    "version": 3
   },
   "file_extension": ".py",
   "mimetype": "text/x-python",
   "name": "python",
   "nbconvert_exporter": "python",
   "pygments_lexer": "ipython3",
   "version": "3.6.7"
  }
 },
 "nbformat": 4,
 "nbformat_minor": 2
}
